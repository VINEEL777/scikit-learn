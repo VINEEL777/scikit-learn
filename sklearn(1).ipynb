{
 "cells": [
  {
   "cell_type": "code",
   "execution_count": 2,
   "id": "3e882e55-582a-4001-b1bd-d25292227e1e",
   "metadata": {},
   "outputs": [],
   "source": [
    "import random \n",
    "class Sentiment:\n",
    "    Negative= 'NEGATIVE'\n",
    "    Positive='POSITIVE'\n",
    "    Neutral='NEUTRAL'\n",
    "class Review:\n",
    "    def __init__(self,text,stars):\n",
    "        self.text=text\n",
    "        self.stars=stars\n",
    "        self.sentiment=self.get_sentiment()\n",
    "    def get_sentiment(self):\n",
    "        if self.stars<=2:\n",
    "            return Sentiment.Negative\n",
    "        elif self.stars==3:\n",
    "            return Sentiment.Neutral\n",
    "        else:\n",
    "            return Sentiment.Positive\n",
    "class ReviewContainer:\n",
    "    def __init__(self,reviews):\n",
    "        self.reviews=reviews\n",
    "    def get_text(self):\n",
    "        return [x.text for x in self.reviews]\n",
    "    def get_sentiment(self):\n",
    "        return [x.sentiment for x in self.reviews]\n",
    "    def evenly_distributed(self):\n",
    "       negative=list(filter(lambda x:x.sentiment== Sentiment.Negative, self.reviews))\n",
    "       positive=list(filter(lambda x:x.sentiment== Sentiment.Positive, self.reviews))\n",
    "       positive_shrunk=positive[:len(negative)]\n",
    "       self.reviews=negative+positive_shrunk\n",
    "       random.shuffle(self.reviews)\n",
    "       \n",
    "            "
   ]
  },
  {
   "cell_type": "code",
   "execution_count": 3,
   "id": "96848952-c25f-48cb-902b-b68d6d833af2",
   "metadata": {},
   "outputs": [
    {
     "data": {
      "text/plain": [
       "'POSITIVE'"
      ]
     },
     "execution_count": 3,
     "metadata": {},
     "output_type": "execute_result"
    }
   ],
   "source": [
    "import json\n",
    "file_name='../scikit-learn/Books_small_10000.json'\n",
    "with open (file_name) as f:\n",
    "    reviews=[]\n",
    "    for line in f:\n",
    "      review=json.loads(line)\n",
    "      reviews.append(Review(review['reviewText'],review['overall']))\n",
    "reviews[5].sentiment"
   ]
  },
  {
   "cell_type": "code",
   "execution_count": 4,
   "id": "2c69f831-67d1-406b-bcca-1cae80d3b9fa",
   "metadata": {},
   "outputs": [
    {
     "name": "stdout",
     "output_type": "stream",
     "text": [
      "436\n",
      "436\n",
      "208\n",
      "208\n"
     ]
    }
   ],
   "source": [
    "from sklearn.model_selection import train_test_split\n",
    "training,testing=train_test_split(reviews,test_size=0.33, random_state =42)\n",
    "train_cont=ReviewContainer(training)\n",
    "test_cont=ReviewContainer(testing)\n",
    "train_cont.evenly_distributed()\n",
    "test_cont.evenly_distributed()\n",
    "train_x=train_cont.get_text()\n",
    "train_y=train_cont.get_sentiment()\n",
    "test_x=test_cont.get_text()\n",
    "test_y=test_cont.get_sentiment()\n",
    "print(train_y.count(Sentiment.Negative))\n",
    "print(train_y.count(Sentiment.Positive))\n",
    "print(test_y.count(Sentiment.Negative))\n",
    "print(test_y.count(Sentiment.Positive))\n",
    "\n",
    "\n"
   ]
  },
  {
   "cell_type": "markdown",
   "id": "9ebaba59-9155-446a-9c30-f57e81ca865a",
   "metadata": {},
   "source": [
    "### Bags of words"
   ]
  },
  {
   "cell_type": "code",
   "execution_count": 5,
   "id": "8e10aec2-7838-4438-b5d7-011eacddeab1",
   "metadata": {},
   "outputs": [
    {
     "data": {
      "text/plain": [
       "<Compressed Sparse Row sparse matrix of dtype 'int64'\n",
       "\twith 36 stored elements and shape (1, 5873)>"
      ]
     },
     "execution_count": 5,
     "metadata": {},
     "output_type": "execute_result"
    }
   ],
   "source": [
    "from sklearn.feature_extraction.text import CountVectorizer\n",
    "vectorizer =CountVectorizer()\n",
    "train_x_vectors=vectorizer.fit_transform(train_x)\n",
    "test_x_vectors=vectorizer.fit_transform(test_x)\n",
    "# print(train_x_vectors[0].toarray())\n",
    "test_x_vectors[0]"
   ]
  },
  {
   "cell_type": "code",
   "execution_count": 6,
   "id": "c926f2f6-455d-4803-a74b-9e3b600d5521",
   "metadata": {},
   "outputs": [],
   "source": [
    "from sklearn.feature_extraction.text import TfidfVectorizer\n",
    "import pickle\n",
    "\n",
    "# Fit and save the vectorizer\n",
    "vectorizer = TfidfVectorizer()\n",
    "train_x_vectors = vectorizer.fit_transform(train_x)\n",
    "with open('vectorizer.pkl', 'wb') as f:\n",
    "    pickle.dump(vectorizer, f)\n",
    "\n",
    "# Load and transform the test data\n",
    "with open('vectorizer.pkl', 'rb') as f:\n",
    "    vectorizer = pickle.load(f)\n",
    "test_x_vectors = vectorizer.transform(test_x)\n"
   ]
  },
  {
   "cell_type": "code",
   "execution_count": 7,
   "id": "d21b0d4b-c0a6-441f-a8c5-17704429ecf9",
   "metadata": {},
   "outputs": [
    {
     "data": {
      "text/plain": [
       "array(['NEGATIVE'], dtype='<U8')"
      ]
     },
     "execution_count": 7,
     "metadata": {},
     "output_type": "execute_result"
    }
   ],
   "source": [
    "from sklearn import svm\n",
    "clf_svm=svm.SVC(kernel='linear')\n",
    "clf_svm.fit(train_x_vectors, train_y)\n",
    "clf_svm.predict(test_x_vectors[4])\n",
    "\n",
    "\n"
   ]
  },
  {
   "cell_type": "markdown",
   "id": "f5b6c1e5-bf04-4e2f-98a4-01d4d2b594f5",
   "metadata": {},
   "source": [
    "### Decision Tree"
   ]
  },
  {
   "cell_type": "code",
   "execution_count": 8,
   "id": "9c8d286e-a831-4592-bdb4-0b8338491ee9",
   "metadata": {},
   "outputs": [
    {
     "data": {
      "text/plain": [
       "array(['NEGATIVE'], dtype='<U8')"
      ]
     },
     "execution_count": 8,
     "metadata": {},
     "output_type": "execute_result"
    }
   ],
   "source": [
    "from sklearn.tree import DecisionTreeClassifier\n",
    "clf_dec=DecisionTreeClassifier()\n",
    "clf_dec.fit(train_x_vectors, train_y)\n",
    "clf_dec.predict(test_x_vectors[4])\n"
   ]
  },
  {
   "cell_type": "code",
   "execution_count": 9,
   "id": "1ab48a3f-c76d-49fb-8718-571980ba8f93",
   "metadata": {},
   "outputs": [
    {
     "data": {
      "text/plain": [
       "array(['NEGATIVE'], dtype='<U8')"
      ]
     },
     "execution_count": 9,
     "metadata": {},
     "output_type": "execute_result"
    }
   ],
   "source": [
    "from sklearn.linear_model import LogisticRegression\n",
    "clf_log=LogisticRegression()\n",
    "clf_log.fit(train_x_vectors, train_y)\n",
    "clf_log.predict(test_x_vectors[4])"
   ]
  },
  {
   "cell_type": "markdown",
   "id": "2c76c6f5-2995-410a-a2fd-d22d567bea4c",
   "metadata": {},
   "source": [
    "### Evaluation"
   ]
  },
  {
   "cell_type": "code",
   "execution_count": 10,
   "id": "410f3869-5f06-442e-af7a-df6269bceefd",
   "metadata": {},
   "outputs": [
    {
     "data": {
      "text/plain": [
       "1.0"
      ]
     },
     "execution_count": 10,
     "metadata": {},
     "output_type": "execute_result"
    }
   ],
   "source": [
    "# Mean Accuracy\n",
    "# clf_svm.score(train_x_vectors, train_y)\n",
    "clf_dec.score(train_x_vectors, train_y)\n",
    "# clf_log.score(train_x_vectors, train_y)"
   ]
  },
  {
   "cell_type": "code",
   "execution_count": 24,
   "id": "8b73c909-3e61-4bf9-ad62-2fd0dc5eac5b",
   "metadata": {},
   "outputs": [
    {
     "data": {
      "text/plain": [
       "array([0.63700234, 0.61728395, 0.        ])"
      ]
     },
     "execution_count": 24,
     "metadata": {},
     "output_type": "execute_result"
    }
   ],
   "source": [
    "# F1-scores\n",
    "from sklearn.metrics import f1_score\n",
    "f1_score(test_y, clf_svm.predict(test_x_vectors),average=None,labels=[Sentiment.Negative, Sentiment.Positive, Sentiment.Neutral ],zero_division=0)\n",
    "f1_score(test_y, clf_log.predict(test_x_vectors),average=None,labels=[Sentiment.Negative, Sentiment.Positive, Sentiment.Neutral ],zero_division=0)\n",
    "f1_score(test_y, clf_dec.predict(test_x_vectors),average=None,labels=[Sentiment.Negative, Sentiment.Positive, Sentiment.Neutral ],zero_division=0)\n"
   ]
  },
  {
   "cell_type": "code",
   "execution_count": 12,
   "id": "f6407547-948f-43fc-9ff0-2ac3ac17b1a2",
   "metadata": {},
   "outputs": [
    {
     "data": {
      "text/plain": [
       "436"
      ]
     },
     "execution_count": 12,
     "metadata": {},
     "output_type": "execute_result"
    }
   ],
   "source": [
    "train_y.count(Sentiment.Positive)\n",
    "train_y.count(Sentiment.Negative)"
   ]
  },
  {
   "cell_type": "code",
   "execution_count": 13,
   "id": "229cb693-e528-4a68-9cf8-1ae089463649",
   "metadata": {},
   "outputs": [
    {
     "data": {
      "text/plain": [
       "array(['NEGATIVE'], dtype='<U8')"
      ]
     },
     "execution_count": 13,
     "metadata": {},
     "output_type": "execute_result"
    }
   ],
   "source": [
    "test_set=[\"This book wasnt upto the mark! .I hated the protagonist's possesiveness and pevertness\"]\n",
    "\n",
    "new_tet_set=vectorizer.transform(test_set)\n",
    "clf_svm.predict(new_test_set)"
   ]
  },
  {
   "cell_type": "markdown",
   "id": "ee39cf78-c2ca-453c-9e9c-f14d83f8f239",
   "metadata": {},
   "source": [
    "Tuning Our model with grid search"
   ]
  },
  {
   "cell_type": "code",
   "execution_count": 25,
   "id": "de1954a8-7aa4-4e61-8459-f4ff7c31f478",
   "metadata": {},
   "outputs": [
    {
     "data": {
      "text/plain": [
       "array([0.80952381, 0.80582524, 0.        ])"
      ]
     },
     "execution_count": 25,
     "metadata": {},
     "output_type": "execute_result"
    }
   ],
   "source": [
    "from sklearn.model_selection import GridSearchCV\n",
    "\n",
    "parameters = {'kernel':('linear', 'rbf'), 'C':[1,4,5, 10]}\n",
    "svc=svm.SVC()\n",
    "clf=GridSearchCV(svc,parameters,cv=5)\n",
    "clf.fit(train_x_vectors,train_y)\n",
    "f1_score(test_y, clf_svm.predict(test_x_vectors),average=None,labels=[Sentiment.Negative, Sentiment.Positive, Sentiment.Neutral ],zero_division=0)\n"
   ]
  },
  {
   "cell_type": "markdown",
   "id": "0b3b3bb0-4169-45bd-b8ba-085bc309cd1d",
   "metadata": {},
   "source": [
    "Saving a model\n"
   ]
  },
  {
   "cell_type": "code",
   "execution_count": 15,
   "id": "a6aa610e-6f0f-41e8-94e0-b6bd5ff360e1",
   "metadata": {},
   "outputs": [],
   "source": [
    "import pickle"
   ]
  },
  {
   "cell_type": "code",
   "execution_count": 20,
   "id": "5428affd-4fad-4b8c-91ac-df06b4ba928b",
   "metadata": {},
   "outputs": [],
   "source": [
    "#writing  our model into a file\n",
    "with open(\"../scikit-learn/models.pkl\",\"wb\") as f:\n",
    "    pickle.dump(clf,f)\n",
    "    "
   ]
  },
  {
   "cell_type": "code",
   "execution_count": 23,
   "id": "58e6961d-d9b6-4142-81a5-f7d56f1fe051",
   "metadata": {},
   "outputs": [
    {
     "name": "stdout",
     "output_type": "stream",
     "text": [
      ".are for the fact that I kept reading ,but sorry it just didn't work for me. I found it very bleak all the way through. Having said that it is smoothly written and if you like this who done it genre you may just relate to this.\n"
     ]
    },
    {
     "data": {
      "text/plain": [
       "array(['NEGATIVE'], dtype='<U8')"
      ]
     },
     "execution_count": 23,
     "metadata": {},
     "output_type": "execute_result"
    }
   ],
   "source": [
    "#prediction by our done from that file (reading)\n",
    "with open(\"../scikit-learn/models.pkl\",\"rb\") as f:\n",
    "    loaded_clf=pickle.load(f)\n",
    "print(test_x[0])\n",
    "loaded_clf.predict(test_x_vectors[0])\n"
   ]
  },
  {
   "cell_type": "code",
   "execution_count": null,
   "id": "96711f15-73f2-4895-bedc-dabb626731ff",
   "metadata": {},
   "outputs": [],
   "source": []
  }
 ],
 "metadata": {
  "kernelspec": {
   "display_name": "Python 3 (ipykernel)",
   "language": "python",
   "name": "python3"
  },
  "language_info": {
   "codemirror_mode": {
    "name": "ipython",
    "version": 3
   },
   "file_extension": ".py",
   "mimetype": "text/x-python",
   "name": "python",
   "nbconvert_exporter": "python",
   "pygments_lexer": "ipython3",
   "version": "3.12.2"
  }
 },
 "nbformat": 4,
 "nbformat_minor": 5
}
